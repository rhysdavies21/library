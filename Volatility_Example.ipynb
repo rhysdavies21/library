{
  "nbformat": 4,
  "nbformat_minor": 0,
  "metadata": {
    "colab": {
      "provenance": [],
      "authorship_tag": "ABX9TyMvG6qJz27NVpp6BmLmvKhP",
      "include_colab_link": true
    },
    "kernelspec": {
      "name": "python3",
      "display_name": "Python 3"
    },
    "language_info": {
      "name": "python"
    }
  },
  "cells": [
    {
      "cell_type": "markdown",
      "metadata": {
        "id": "view-in-github",
        "colab_type": "text"
      },
      "source": [
        "<a href=\"https://colab.research.google.com/github/rhysdavies21/library/blob/master/Volatility_Example.ipynb\" target=\"_parent\"><img src=\"https://colab.research.google.com/assets/colab-badge.svg\" alt=\"Open In Colab\"/></a>"
      ]
    },
    {
      "cell_type": "markdown",
      "source": [
        "**Example to show the volatility (defined as standard deviation) of a basket**"
      ],
      "metadata": {
        "id": "UrsEOXHPUsA0"
      }
    },
    {
      "cell_type": "code",
      "source": [
        "import numpy as np\n",
        "\n",
        "# User inputs: \n",
        "weights = np.array([0.1, 0.2, 0.3, 0.3, 0.1])\n",
        "\n",
        "# check if weights sum to 100%\n",
        "if np.round(sum(weights),5)==1:\n",
        "    print(\"Check:  Weights are ok.\")\n",
        "else:\n",
        "    print(\"Check:  Weights do not sum to 1.\")\n",
        "\n",
        "\n",
        "#User input correlations\n",
        "Asset1_Asset2=0.2\n",
        "Asset1_Asset3=0.2\n",
        "Asset1_Asset4=0.2\n",
        "Asset1_Asset5=0.2\n",
        "Asset2_Asset3=0.2\n",
        "Asset2_Asset4=0.2\n",
        "Asset2_Asset5=0.2\n",
        "Asset3_Asset4=0.2\n",
        "Asset3_Asset5=0.2\n",
        "Asset4_Asset5=0.2\n",
        "\n",
        "# Correlation by symmetry\n",
        "Asset2_Asset1=Asset1_Asset2\n",
        "Asset3_Asset1=Asset1_Asset3\n",
        "Asset4_Asset1=Asset1_Asset4\n",
        "Asset5_Asset1=Asset1_Asset5\n",
        "Asset3_Asset2=Asset2_Asset3\n",
        "Asset4_Asset2=Asset2_Asset4\n",
        "Asset5_Asset2=Asset2_Asset5\n",
        "Asset4_Asset3=Asset3_Asset4\n",
        "Asset5_Asset3=Asset3_Asset5\n",
        "Asset5_Asset4=Asset4_Asset5\n",
        "\n",
        "\n",
        "# correlation matrix\n",
        "corr_matrix = np.array([[1.0, Asset2_Asset1, Asset3_Asset1, Asset4_Asset1, Asset5_Asset1],\n",
        "                        [Asset1_Asset2, 1.0, Asset3_Asset2, Asset4_Asset2, Asset5_Asset2],\n",
        "                        [Asset1_Asset3, Asset2_Asset3, 1.0, Asset4_Asset3, Asset5_Asset3],\n",
        "                        [Asset1_Asset4, Asset2_Asset4, Asset3_Asset4, 1.0, Asset5_Asset4],\n",
        "                        [Asset1_Asset5, Asset2_Asset5, Asset3_Asset5, Asset4_Asset5, 1.0]])\n",
        "\n",
        "# User inputs: Standard deviations of the five underlyings (expressed as a percentage, e.g. 10%)\n",
        "std_devs = np.array([0.1,0.12,0.14,0.16,0.18])\n",
        "\n",
        "# covariance matrix\n",
        "cov_matrix = np.outer(std_devs,std_devs)*corr_matrix\n",
        "\n",
        "# calculate eigenvalues\n",
        "eigenvalues = np.linalg.eigvals(cov_matrix)\n",
        "\n",
        "# check if all eigenvalues are positive\n",
        "if np.all(eigenvalues > 0):\n",
        "    print(\"Check:  The matrix is ok.\")\n",
        "else:\n",
        "    print(\"Check:  The matrix is not positive definite.\")\n",
        "\n",
        "# variance of the basket\n",
        "variance = weights.T @ cov_matrix @ weights\n",
        "\n",
        "# standard deviation of the basket\n",
        "std_dev = np.sqrt(variance)\n",
        "\n",
        "print(f'Standard deviation (volatility) of the basket=: {100*std_dev:.3f}')"
      ],
      "metadata": {
        "id": "DdFwCeMfR6xT",
        "outputId": "f4a1c1a7-a3ab-42b8-def2-0ba422124e3e",
        "colab": {
          "base_uri": "https://localhost:8080/"
        }
      },
      "execution_count": 43,
      "outputs": [
        {
          "output_type": "stream",
          "name": "stdout",
          "text": [
            "Check:  Weights are ok.\n",
            "Check:  The matrix is ok.\n",
            "Standard deviation (volatility) of the basket=: 8.993\n"
          ]
        }
      ]
    }
  ]
}